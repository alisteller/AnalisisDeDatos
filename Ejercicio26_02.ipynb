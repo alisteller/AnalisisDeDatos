{
  "nbformat": 4,
  "nbformat_minor": 0,
  "metadata": {
    "colab": {
      "provenance": [],
      "authorship_tag": "ABX9TyOgHNcASM3Gmj+g88JMOE99",
      "include_colab_link": true
    },
    "kernelspec": {
      "name": "python3",
      "display_name": "Python 3"
    },
    "language_info": {
      "name": "python"
    }
  },
  "cells": [
    {
      "cell_type": "markdown",
      "metadata": {
        "id": "view-in-github",
        "colab_type": "text"
      },
      "source": [
        "<a href=\"https://colab.research.google.com/github/alisteller/AnalisisDeDatos/blob/main/Ejercicio26_02.ipynb\" target=\"_parent\"><img src=\"https://colab.research.google.com/assets/colab-badge.svg\" alt=\"Open In Colab\"/></a>"
      ]
    },
    {
      "cell_type": "code",
      "execution_count": null,
      "metadata": {
        "colab": {
          "base_uri": "https://localhost:8080/"
        },
        "id": "Wz74goQ9wY77",
        "outputId": "ae6ec70e-4072-45cd-8b1d-99d98c080936"
      },
      "outputs": [
        {
          "output_type": "stream",
          "name": "stdout",
          "text": [
            "Ejercicio #1 Calcular Distancia\n",
            "Ingrese la velocidad y el tiempo de la unidad movil\n",
            "Ingrese la velocidad:2\n",
            "Ingrese el tiempo:4\n",
            "La distancia es:8.0\n"
          ]
        }
      ],
      "source": [
        "#Ejercicio 1\n",
        "\n",
        "print(\"Ejercicio #1 Calcular Distancia\")\n",
        "print (\"Ingrese la velocidad y el tiempo de la unidad movil\")\n",
        "v = float(input(\"Ingrese la velocidad:\"))\n",
        "t = float(input(\"Ingrese el tiempo:\"))\n",
        "print(\"La distancia es: \" +str(v*t))"
      ]
    },
    {
      "cell_type": "code",
      "source": [
        "#Ejercicio 6\n",
        "import math\n",
        "\n",
        "print(\"Ejercicio 6\")\n",
        "x1 = float(input(\"Digite el valor de x1: \"))\n",
        "x2 = float(input(\"Digite el valor de x2: \"))\n",
        "y1 = float(input(\"Digite el valor de y1: \"))\n",
        "y2 = float(input(\"Digite el valor de y2: \"))\n",
        "\n",
        "formula = math.sqrt((x2-x1)**2 + (y2-y1)**2)\n",
        "print(\"El valor de la distancia entre dos puntos es de: \",formula)\n",
        "\n"
      ],
      "metadata": {
        "colab": {
          "base_uri": "https://localhost:8080/"
        },
        "id": "H7bzy5-R0EBy",
        "outputId": "02f40258-a6ac-4053-85e4-a3121cf8d884"
      },
      "execution_count": null,
      "outputs": [
        {
          "output_type": "stream",
          "name": "stdout",
          "text": [
            "Ejercicio 6\n",
            "Digite el valor de x1: 2\n",
            "Digite el valor de x2: 3\n",
            "Digite el valor de y1: 4\n",
            "Digite el valor de y2: 5\n",
            "El valor de la distancia entre dos puntos es de:  1.4142135623730951\n"
          ]
        }
      ]
    }
  ]
}